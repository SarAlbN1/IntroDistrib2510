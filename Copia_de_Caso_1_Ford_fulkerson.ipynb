{
  "nbformat": 4,
  "nbformat_minor": 0,
  "metadata": {
    "colab": {
      "provenance": []
    },
    "kernelspec": {
      "name": "python3",
      "display_name": "Python 3"
    },
    "language_info": {
      "name": "python"
    }
  },
  "cells": [
    {
      "cell_type": "code",
      "execution_count": null,
      "metadata": {
        "id": "62Kg4Yh0e75j",
        "colab": {
          "base_uri": "https://localhost:8080/"
        },
        "outputId": "e1740f0c-b201-4ae3-a137-36b6f0e0ec0f"
      },
      "outputs": [
        {
          "output_type": "stream",
          "name": "stdout",
          "text": [
            "Collecting Pulp\n",
            "  Downloading PuLP-2.9.0-py3-none-any.whl.metadata (5.4 kB)\n",
            "Downloading PuLP-2.9.0-py3-none-any.whl (17.7 MB)\n",
            "\u001b[2K   \u001b[90m━━━━━━━━━━━━━━━━━━━━━━━━━━━━━━━━━━━━━━━━\u001b[0m \u001b[32m17.7/17.7 MB\u001b[0m \u001b[31m32.7 MB/s\u001b[0m eta \u001b[36m0:00:00\u001b[0m\n",
            "\u001b[?25hInstalling collected packages: Pulp\n",
            "Successfully installed Pulp-2.9.0\n"
          ]
        }
      ],
      "source": [
        "pip install Pulp"
      ]
    },
    {
      "cell_type": "code",
      "source": [
        "pip install XlsxWriter"
      ],
      "metadata": {
        "colab": {
          "base_uri": "https://localhost:8080/"
        },
        "id": "Q6tPeh-yoBsx",
        "outputId": "1740ab1a-f95a-4548-95a2-430727d8c39e"
      },
      "execution_count": null,
      "outputs": [
        {
          "output_type": "stream",
          "name": "stdout",
          "text": [
            "Collecting XlsxWriter\n",
            "  Downloading XlsxWriter-3.2.2-py3-none-any.whl.metadata (2.8 kB)\n",
            "Downloading XlsxWriter-3.2.2-py3-none-any.whl (165 kB)\n",
            "\u001b[2K   \u001b[90m━━━━━━━━━━━━━━━━━━━━━━━━━━━━━━━━━━━━━━━━\u001b[0m \u001b[32m165.1/165.1 kB\u001b[0m \u001b[31m3.0 MB/s\u001b[0m eta \u001b[36m0:00:00\u001b[0m\n",
            "\u001b[?25hInstalling collected packages: XlsxWriter\n",
            "Successfully installed XlsxWriter-3.2.2\n"
          ]
        }
      ]
    },
    {
      "cell_type": "code",
      "source": [
        "import pandas as pd"
      ],
      "metadata": {
        "id": "vmuoHY9QoOhq"
      },
      "execution_count": null,
      "outputs": []
    },
    {
      "cell_type": "code",
      "source": [
        "import math\n",
        "import numpy as np\n",
        "from pulp import *\n",
        "from pandas import DataFrame\n",
        "import xlsxwriter"
      ],
      "metadata": {
        "id": "3TiKivmooQMX"
      },
      "execution_count": null,
      "outputs": []
    },
    {
      "cell_type": "code",
      "source": [
        "df1 =pd.read_excel('supcap.xlsx')\n",
        "red1=df1.to_numpy().tolist()\n",
        "Tam=len(red1)\n",
        "print(Tam)\n",
        "print(red1)"
      ],
      "metadata": {
        "colab": {
          "base_uri": "https://localhost:8080/"
        },
        "id": "EISDZ69ZskSX",
        "outputId": "22052cce-8e9b-4003-8057-d09219fab2c7"
      },
      "execution_count": null,
      "outputs": [
        {
          "output_type": "stream",
          "name": "stdout",
          "text": [
            "10\n",
            "[[0, 20, 40, 25, 0, 0, 0, 0, 0, 0], [1, 0, 0, 0, 40, 0, 40, 0, 0, 0], [2, 0, 0, 35, 35, 50, 0, 0, 0, 0], [3, 0, 0, 0, 0, 0, 0, 0, 20, 0], [4, 0, 0, 0, 0, 0, 30, 30, 0, 0], [5, 0, 0, 0, 0, 0, 0, 40, 30, 0], [6, 0, 0, 0, 0, 0, 0, 0, 0, 100], [7, 0, 0, 0, 0, 0, 40, 0, 40, 0], [8, 0, 0, 0, 0, 0, 0, 0, 0, 100], [9, 0, 0, 0, 0, 0, 0, 0, 0, 0]]\n"
          ]
        }
      ]
    },
    {
      "cell_type": "code",
      "source": [
        "prob_C12=LpProblem('FlujoMaximo',LpMaximize)"
      ],
      "metadata": {
        "id": "poGk384HoaHZ"
      },
      "execution_count": null,
      "outputs": []
    },
    {
      "cell_type": "code",
      "source": [
        "N=range(0,Tam)\n",
        "arcos=[(i,j) for i in N for j in N]\n",
        "print(N)\n",
        "print(arcos)\n",
        "var_flujo=LpVariable.dicts(\"Flujo\", (N,N), lowBound=0, cat = \"integer\")"
      ],
      "metadata": {
        "id": "TVPcVRaCrsr7",
        "colab": {
          "base_uri": "https://localhost:8080/"
        },
        "outputId": "ce63d9c5-7c7e-4240-c301-d5e89c12d4a1"
      },
      "execution_count": null,
      "outputs": [
        {
          "output_type": "stream",
          "name": "stdout",
          "text": [
            "range(0, 10)\n",
            "[(0, 0), (0, 1), (0, 2), (0, 3), (0, 4), (0, 5), (0, 6), (0, 7), (0, 8), (0, 9), (1, 0), (1, 1), (1, 2), (1, 3), (1, 4), (1, 5), (1, 6), (1, 7), (1, 8), (1, 9), (2, 0), (2, 1), (2, 2), (2, 3), (2, 4), (2, 5), (2, 6), (2, 7), (2, 8), (2, 9), (3, 0), (3, 1), (3, 2), (3, 3), (3, 4), (3, 5), (3, 6), (3, 7), (3, 8), (3, 9), (4, 0), (4, 1), (4, 2), (4, 3), (4, 4), (4, 5), (4, 6), (4, 7), (4, 8), (4, 9), (5, 0), (5, 1), (5, 2), (5, 3), (5, 4), (5, 5), (5, 6), (5, 7), (5, 8), (5, 9), (6, 0), (6, 1), (6, 2), (6, 3), (6, 4), (6, 5), (6, 6), (6, 7), (6, 8), (6, 9), (7, 0), (7, 1), (7, 2), (7, 3), (7, 4), (7, 5), (7, 6), (7, 7), (7, 8), (7, 9), (8, 0), (8, 1), (8, 2), (8, 3), (8, 4), (8, 5), (8, 6), (8, 7), (8, 8), (8, 9), (9, 0), (9, 1), (9, 2), (9, 3), (9, 4), (9, 5), (9, 6), (9, 7), (9, 8), (9, 9)]\n"
          ]
        }
      ]
    },
    {
      "cell_type": "markdown",
      "source": [
        "Funcion Objetivo"
      ],
      "metadata": {
        "id": "uDCx0z1pz-2o"
      }
    },
    {
      "cell_type": "code",
      "source": [
        "prob_C12 += lpSum(var_flujo[0][j] for j in N)"
      ],
      "metadata": {
        "id": "5rGmVtIoz-Zk"
      },
      "execution_count": null,
      "outputs": []
    },
    {
      "cell_type": "markdown",
      "source": [
        "Restricciones"
      ],
      "metadata": {
        "id": "DojUVva_ulSO"
      }
    },
    {
      "cell_type": "code",
      "source": [
        "#Restricción de Ruta\n",
        "#Balance\n",
        "for k in N:\n",
        "  if k>0 and k<Tam-1:\n",
        "    prob_C12 += lpSum(var_flujo[i][k] for i in N if k>i)==lpSum(var_flujo[k][i] for i in N if i>k)\n",
        "#Capacidad\n",
        "for i in N:\n",
        "  for j in N:\n",
        "    prob_C12 += var_flujo[i][j]<= red1[i][j]"
      ],
      "metadata": {
        "id": "7gQTx-e6umv-"
      },
      "execution_count": null,
      "outputs": []
    },
    {
      "cell_type": "code",
      "source": [
        "status = prob_C12.solve()\n",
        "print(\"Status: \", LpStatus[prob_C12.status])"
      ],
      "metadata": {
        "id": "3ecb5mY_w8ZY",
        "colab": {
          "base_uri": "https://localhost:8080/"
        },
        "outputId": "9a053d91-9bea-4fe5-d8df-8f801aa27816"
      },
      "execution_count": null,
      "outputs": [
        {
          "output_type": "stream",
          "name": "stdout",
          "text": [
            "Status:  Optimal\n"
          ]
        }
      ]
    },
    {
      "cell_type": "code",
      "source": [
        "for var in prob_C12.variables():\n",
        "  if var.value()>0:\n",
        "    print(var, '=',value(var))\n",
        "print(\"El flujo maximo es: \"+ format (value(prob_C12.objective)))"
      ],
      "metadata": {
        "id": "MebDXnIDxYi9",
        "colab": {
          "base_uri": "https://localhost:8080/"
        },
        "outputId": "3d5018ec-63ba-4fab-9b41-6bb906dcaeb9"
      },
      "execution_count": null,
      "outputs": [
        {
          "output_type": "stream",
          "name": "stdout",
          "text": [
            "Flujo_0_1 = 20.0\n",
            "Flujo_0_2 = 40.0\n",
            "Flujo_0_3 = 20.0\n",
            "Flujo_1_6 = 20.0\n",
            "Flujo_2_4 = 10.0\n",
            "Flujo_2_5 = 30.0\n",
            "Flujo_3_8 = 20.0\n",
            "Flujo_4_6 = 10.0\n",
            "Flujo_5_8 = 30.0\n",
            "Flujo_6_9 = 30.0\n",
            "Flujo_8_9 = 50.0\n",
            "El flujo maximo es: 80.0\n"
          ]
        }
      ]
    }
  ]
}